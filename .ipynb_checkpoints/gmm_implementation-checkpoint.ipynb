{
 "cells": [
  {
   "cell_type": "code",
   "execution_count": null,
   "metadata": {},
   "outputs": [],
   "source": [
    "# from pyspark.sql import SparkSession\n",
    "# from pyspark.ml.clustering import GaussianMixture\n",
    "# from pyspark.ml.linalg import Vectors\n",
    "# from pyspark.ml.feature import VectorAssembler\n",
    "# from sklearn.datasets import load_wine\n",
    "\n",
    "# spark = SparkSession.builder.appName(\"GaussianMixtureExample\").getOrCreate()\n",
    "\n",
    "# data = load_wine()\n",
    "# df = spark.createDataFrame(data.data.tolist(), schema=data.feature_names)\n",
    "\n",
    "# assembler = VectorAssembler(inputCols=df.columns, outputCol=\"features\")\n",
    "# dataset = assembler.transform(df)\n",
    "\n",
    "# gmm = GaussianMixture(k=10, tol=0.01, maxIter=100)\n",
    "# model = gmm.fit(dataset)\n",
    "\n",
    "# transformed = model.transform(dataset)\n",
    "# transformed.show()\n",
    "\n",
    "# # evaluasi model (pakai silhouette score)\n",
    "# from pyspark.ml.evaluation import ClusteringEvaluator\n",
    "# evaluator = ClusteringEvaluator()\n",
    "# silhouette = evaluator.evaluate(transformed)\n",
    "# print(\"Silhouette Score: \", silhouette)\n",
    "\n",
    "# spark.stop()"
   ]
  },
  {
   "cell_type": "code",
   "execution_count": 15,
   "metadata": {},
   "outputs": [
    {
     "name": "stdout",
     "output_type": "stream",
     "text": [
      "Silhouette with squared euclidean distance = 0.7259416875600356\n",
      "+--------------------+----------+\n",
      "|            features|prediction|\n",
      "+--------------------+----------+\n",
      "|[40.900749,95.4,2...|         0|\n",
      "|[3202.467416,0.0,...|         2|\n",
      "|[2495.148862,773....|         0|\n",
      "|[1666.670542,1499...|         0|\n",
      "|[817.714335,16.0,...|         0|\n",
      "|[1809.828751,1333...|         0|\n",
      "|[627.260806,7091....|         2|\n",
      "|[1823.652743,436....|         0|\n",
      "|[1014.926473,861....|         0|\n",
      "|[152.225975,1281....|         0|\n",
      "|[1293.124939,920....|         0|\n",
      "|[630.794744,1492....|         0|\n",
      "|[1516.92862,3217....|         0|\n",
      "|[921.693369,2137....|         0|\n",
      "|[2772.772734,0.0,...|         0|\n",
      "|[6886.213231,1611...|         2|\n",
      "|[2072.074354,0.0,...|         0|\n",
      "|[41.089489,519.0,...|         0|\n",
      "|[1989.072228,504....|         0|\n",
      "|[3577.970933,398....|         0|\n",
      "+--------------------+----------+\n",
      "only showing top 20 rows\n",
      "\n",
      "Duration: 23.69611668586731 seconds\n"
     ]
    }
   ],
   "source": [
    "from pyspark.sql import SparkSession\n",
    "from pyspark.ml.clustering import GaussianMixture\n",
    "from pyspark.ml.feature import VectorAssembler\n",
    "from pyspark.ml.evaluation import ClusteringEvaluator\n",
    "import time\n",
    "\n",
    "# Initialize Spark Session\n",
    "spark = SparkSession.builder.appName(\"GaussianMixtureModelCreditCard\").getOrCreate()\n",
    "\n",
    "# Load data\n",
    "data_path = \"/home/bigdata/project-folder/Eksplorasi/CC_GENERAL.csv\"  # Replace with the actual path to your dataset\n",
    "start_time = time.time()  # Start timing\n",
    "data = spark.read.csv(data_path, header=True, inferSchema=True)\n",
    "\n",
    "# Select features for clustering\n",
    "assembler = VectorAssembler(inputCols=[\"BALANCE\", \"PURCHASES\", \"PAYMENTS\"], outputCol=\"features\")\n",
    "data = assembler.transform(data)\n",
    "\n",
    "# Create Gaussian Mixture Model\n",
    "gmm = GaussianMixture(k=3, maxIter=100, tol=0.01, seed=10)\n",
    "model = gmm.fit(data)\n",
    "\n",
    "# Evaluate clustering by computing Silhouette score\n",
    "transformed = model.transform(data)\n",
    "evaluator = ClusteringEvaluator()\n",
    "silhouette = evaluator.evaluate(transformed)\n",
    "print(\"Silhouette with squared euclidean distance = \" + str(silhouette))\n",
    "\n",
    "# Show results\n",
    "transformed.select(\"features\", \"prediction\").show()\n",
    "\n",
    "# Print duration\n",
    "print(\"Duration: %s seconds\" % (time.time() - start_time))\n",
    "\n",
    "# Stop Spark Session\n",
    "spark.stop()"
   ]
  },
  {
   "cell_type": "code",
   "execution_count": 14,
   "metadata": {},
   "outputs": [],
   "source": [
    "spark.stop()"
   ]
  },
  {
   "cell_type": "code",
   "execution_count": null,
   "metadata": {},
   "outputs": [],
   "source": []
  }
 ],
 "metadata": {
  "kernelspec": {
   "display_name": "Python 3",
   "language": "python",
   "name": "python3"
  },
  "language_info": {
   "codemirror_mode": {
    "name": "ipython",
    "version": 3
   },
   "file_extension": ".py",
   "mimetype": "text/x-python",
   "name": "python",
   "nbconvert_exporter": "python",
   "pygments_lexer": "ipython3",
   "version": "3.7.4"
  }
 },
 "nbformat": 4,
 "nbformat_minor": 2
}
